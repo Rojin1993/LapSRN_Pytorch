{
  "nbformat": 4,
  "nbformat_minor": 0,
  "metadata": {
    "colab": {
      "provenance": [],
      "gpuType": "T4"
    },
    "kernelspec": {
      "name": "python3",
      "display_name": "Python 3"
    },
    "language_info": {
      "name": "python"
    },
    "accelerator": "GPU"
  },
  "cells": [
    {
      "cell_type": "code",
      "execution_count": null,
      "metadata": {
        "id": "5pEMrevetOXU"
      },
      "outputs": [],
      "source": [
        "from google.colab import drive\n",
        "\n",
        "# Mount Google Drive\n",
        "drive.mount('/content/drive')"
      ]
    },
    {
      "cell_type": "code",
      "source": [
        "# Specify the directory path in Google Drive\n",
        "makeReposit = \"/content/drive/MyDrive/LapSRN\"\n",
        "\n",
        "# Create the directory if it doesn't exist\n",
        "!mkdir -p \"$makeReposit/\"\n",
        "\n",
        "# Change the current working directory to the specified path\n",
        "%cd \"$makeReposit/\"\n",
        "\n",
        "# Clone the repository using git\n",
        "!git clone https://github.com/BUPTLdy/Pytorch-LapSRN"
      ],
      "metadata": {
        "id": "_qiGmMUZtzvV"
      },
      "execution_count": null,
      "outputs": []
    },
    {
      "cell_type": "code",
      "source": [
        "%cd /content/drive/MyDrive/LapSRN/Pytorch-LapSRN\n",
        "!python changed_test.py"
      ],
      "metadata": {
        "id": "9RUGoKRht2PM"
      },
      "execution_count": null,
      "outputs": []
    }
  ]
}